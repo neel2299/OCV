{
 "cells": [
  {
   "cell_type": "code",
   "execution_count": 5,
   "metadata": {},
   "outputs": [
    {
     "name": "stdout",
     "output_type": "stream",
     "text": [
      "1\n"
     ]
    },
    {
     "ename": "KeyboardInterrupt",
     "evalue": "",
     "output_type": "error",
     "traceback": [
      "\u001b[1;31m---------------------------------------------------------------------------\u001b[0m",
      "\u001b[1;31mKeyboardInterrupt\u001b[0m                         Traceback (most recent call last)",
      "\u001b[1;32m<ipython-input-5-d9c3946bc4b4>\u001b[0m in \u001b[0;36m<module>\u001b[1;34m\u001b[0m\n\u001b[0;32m     24\u001b[0m \u001b[0mprint\u001b[0m\u001b[1;33m(\u001b[0m\u001b[1;36m1\u001b[0m\u001b[1;33m)\u001b[0m\u001b[1;33m\u001b[0m\u001b[1;33m\u001b[0m\u001b[0m\n\u001b[0;32m     25\u001b[0m \u001b[0mcv\u001b[0m\u001b[1;33m.\u001b[0m\u001b[0mimshow\u001b[0m\u001b[1;33m(\u001b[0m\u001b[1;34m\"first block\"\u001b[0m\u001b[1;33m,\u001b[0m\u001b[0mdummy\u001b[0m\u001b[1;33m[\u001b[0m\u001b[1;36m1\u001b[0m\u001b[1;33m]\u001b[0m\u001b[1;33m[\u001b[0m\u001b[1;36m3\u001b[0m\u001b[1;33m]\u001b[0m\u001b[1;33m)\u001b[0m\u001b[1;33m\u001b[0m\u001b[1;33m\u001b[0m\u001b[0m\n\u001b[1;32m---> 26\u001b[1;33m \u001b[0mcv\u001b[0m\u001b[1;33m.\u001b[0m\u001b[0mwaitKey\u001b[0m\u001b[1;33m(\u001b[0m\u001b[1;36m0\u001b[0m\u001b[1;33m)\u001b[0m\u001b[1;33m\u001b[0m\u001b[1;33m\u001b[0m\u001b[0m\n\u001b[0m",
      "\u001b[1;31mKeyboardInterrupt\u001b[0m: "
     ]
    }
   ],
   "source": [
    "import cv2 as cv\n",
    "#One proj can be making a bot that behaves like a human\n",
    "#build a chrome extension to highlight all the same words when you select one\n",
    "import numpy as np\n",
    "img = cv.imread(\"Puzzle.jpeg\")\n",
    "def image_to_matrix(img):\n",
    "    dx=img.shape[0]//8\n",
    "    dy=img.shape[1]//8\n",
    "    mat=[]\n",
    "    for i in range(8):\n",
    "        lis=[]\n",
    "        for j in range(8):\n",
    "            points1 = np.float32([[i*dx,j*dy],[(i+1)*dx,j*dy],[i*dx,(j+1)*dy],[(i+1)*dx,(j+1)*dy]])\n",
    "            points2 = np.float32([[i*dx,j*dy],[(i+1)*dx,j*dy],[i*dx,(j+1)*dy],[(i+1)*dx,(j+1)*dy]])\n",
    "            matrix=cv.getPerspectiveTransform(points1, points2)\n",
    "            output=cv.warpPerspective(img,matrix,(dx,dy) )\n",
    "            lis.append(output)\n",
    "            # cv.imshow(str(i)+str(j), output)\n",
    "        mat.append(lis)\n",
    "\n",
    "    return mat\n",
    "\n",
    "dummy= image_to_matrix(img)\n",
    "print(1)\n",
    "cv.imshow(\"first block\",dummy[1][3])\n",
    "cv.waitKey(0)"
   ]
  },
  {
   "cell_type": "code",
   "execution_count": null,
   "metadata": {},
   "outputs": [],
   "source": []
  }
 ],
 "metadata": {
  "kernelspec": {
   "display_name": "Python 3",
   "language": "python",
   "name": "python3"
  },
  "language_info": {
   "codemirror_mode": {
    "name": "ipython",
    "version": 3
   },
   "file_extension": ".py",
   "mimetype": "text/x-python",
   "name": "python",
   "nbconvert_exporter": "python",
   "pygments_lexer": "ipython3",
   "version": "3.8.3"
  }
 },
 "nbformat": 4,
 "nbformat_minor": 4
}
